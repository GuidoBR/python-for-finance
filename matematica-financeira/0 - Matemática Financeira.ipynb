{
 "cells": [
  {
   "cell_type": "markdown",
   "metadata": {},
   "source": [
    "# Matemática Financeira"
   ]
  },
  {
   "cell_type": "markdown",
   "metadata": {},
   "source": [
    "O fato de poder consumir agora, mesmo sem recursos suficientes, é um relevante benefício e, como tal, demandou remunueração. Esse pensamento é, apenas, uma das forças que sustentaram o aparecimento dos juros ao longo da história. O custo de oportunidade é outro fator que corroba para a necessidade de remuneração do dinheiro emprestado. Igualmente, o risco de não receber (risco de crédito) é outro impulsionador natural para os juros."
   ]
  },
  {
   "cell_type": "markdown",
   "metadata": {},
   "source": [
    "Com base nessa ideia (juros), e com a inflação (depreciação do valor do dinheiro), chegamos ao conceito de que dinheiro tem valor no tempo. Pagar 100 reais num produto hoje, é diferente de pagar R$ 100 daqui a um ano. Pagar à vista tem um valor diferente se comparado à pagar parcelado. Receber o 13o salário adiantado é melhor para o trabalhador do que receber apenas no final do ano.\n"
   ]
  },
  {
   "cell_type": "markdown",
   "metadata": {},
   "source": [
    "Matemática financeira é uma ferramenta útil para analisar investimentos, financiamentos e compras. É uma habilidade fundamental para quem lida com dinheiro profissionalmente, e para todos nós consumidores. Aprendendo os conceitos e sabendo como aplicar (com ajuda de planilhas e/ou calculadora financeira), podemos tomar decisões melhores sobre como utilizar nosso dinheiro."
   ]
  },
  {
   "cell_type": "markdown",
   "metadata": {},
   "source": [
    "## Referências e mais informações:"
   ]
  },
  {
   "cell_type": "markdown",
   "metadata": {},
   "source": [
    "- [Wikibooks - Matemática Financeira](https://pt.wikibooks.org/wiki/Matem%C3%A1tica_financeira)\n",
    "- [Matemática Financeira para Iniciantes e Leigos](http://www.clubedospoupadores.com/investimentos/matematica-financeira-para-iniciantes-e-leigos.html)\n",
    "- Matemática Financeira - Ricardo José Andrade Leite Viana"
   ]
  }
 ],
 "metadata": {
  "kernelspec": {
   "display_name": "python-for-finance",
   "language": "python",
   "name": "python-for-finance"
  },
  "language_info": {
   "codemirror_mode": {
    "name": "ipython",
    "version": 3
   },
   "file_extension": ".py",
   "mimetype": "text/x-python",
   "name": "python",
   "nbconvert_exporter": "python",
   "pygments_lexer": "ipython3",
   "version": "3.6.0"
  }
 },
 "nbformat": 4,
 "nbformat_minor": 2
}
