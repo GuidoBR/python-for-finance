{
 "cells": [
  {
   "cell_type": "code",
   "execution_count": 1,
   "metadata": {
    "collapsed": true
   },
   "outputs": [],
   "source": [
    "import numpy as np\n",
    "import pandas as pd\n",
    "import pandas_datareader.data as wb\n",
    "import matplotlib.pyplot as plt"
   ]
  },
  {
   "cell_type": "code",
   "execution_count": 3,
   "metadata": {
    "collapsed": false
   },
   "outputs": [],
   "source": [
    "BRK = wb.DataReader('BRK-A', data_source='google', start='1995-1-1')"
   ]
  },
  {
   "cell_type": "code",
   "execution_count": 4,
   "metadata": {
    "collapsed": false
   },
   "outputs": [
    {
     "data": {
      "text/html": [
       "<div>\n",
       "<table border=\"1\" class=\"dataframe\">\n",
       "  <thead>\n",
       "    <tr style=\"text-align: right;\">\n",
       "      <th></th>\n",
       "      <th>Open</th>\n",
       "      <th>High</th>\n",
       "      <th>Low</th>\n",
       "      <th>Close</th>\n",
       "      <th>Volume</th>\n",
       "    </tr>\n",
       "    <tr>\n",
       "      <th>Date</th>\n",
       "      <th></th>\n",
       "      <th></th>\n",
       "      <th></th>\n",
       "      <th></th>\n",
       "      <th></th>\n",
       "    </tr>\n",
       "  </thead>\n",
       "  <tbody>\n",
       "    <tr>\n",
       "      <th>2001-06-28</th>\n",
       "      <td>68100.0</td>\n",
       "      <td>68600.0</td>\n",
       "      <td>67600.0</td>\n",
       "      <td>67900.0</td>\n",
       "      <td>300</td>\n",
       "    </tr>\n",
       "    <tr>\n",
       "      <th>2001-06-29</th>\n",
       "      <td>68100.0</td>\n",
       "      <td>69400.0</td>\n",
       "      <td>68100.0</td>\n",
       "      <td>69400.0</td>\n",
       "      <td>600</td>\n",
       "    </tr>\n",
       "    <tr>\n",
       "      <th>2001-07-02</th>\n",
       "      <td>69400.0</td>\n",
       "      <td>69400.0</td>\n",
       "      <td>68600.0</td>\n",
       "      <td>69100.0</td>\n",
       "      <td>500</td>\n",
       "    </tr>\n",
       "    <tr>\n",
       "      <th>2001-07-03</th>\n",
       "      <td>69000.0</td>\n",
       "      <td>69000.0</td>\n",
       "      <td>68700.0</td>\n",
       "      <td>68700.0</td>\n",
       "      <td>100</td>\n",
       "    </tr>\n",
       "    <tr>\n",
       "      <th>2001-07-05</th>\n",
       "      <td>68400.0</td>\n",
       "      <td>68800.0</td>\n",
       "      <td>68300.0</td>\n",
       "      <td>68600.0</td>\n",
       "      <td>100</td>\n",
       "    </tr>\n",
       "  </tbody>\n",
       "</table>\n",
       "</div>"
      ],
      "text/plain": [
       "               Open     High      Low    Close  Volume\n",
       "Date                                                  \n",
       "2001-06-28  68100.0  68600.0  67600.0  67900.0     300\n",
       "2001-06-29  68100.0  69400.0  68100.0  69400.0     600\n",
       "2001-07-02  69400.0  69400.0  68600.0  69100.0     500\n",
       "2001-07-03  69000.0  69000.0  68700.0  68700.0     100\n",
       "2001-07-05  68400.0  68800.0  68300.0  68600.0     100"
      ]
     },
     "execution_count": 4,
     "metadata": {},
     "output_type": "execute_result"
    }
   ],
   "source": [
    "BRK.head()"
   ]
  },
  {
   "cell_type": "code",
   "execution_count": 5,
   "metadata": {
    "collapsed": false
   },
   "outputs": [
    {
     "data": {
      "text/html": [
       "<div>\n",
       "<table border=\"1\" class=\"dataframe\">\n",
       "  <thead>\n",
       "    <tr style=\"text-align: right;\">\n",
       "      <th></th>\n",
       "      <th>Open</th>\n",
       "      <th>High</th>\n",
       "      <th>Low</th>\n",
       "      <th>Close</th>\n",
       "      <th>Volume</th>\n",
       "    </tr>\n",
       "    <tr>\n",
       "      <th>Date</th>\n",
       "      <th></th>\n",
       "      <th></th>\n",
       "      <th></th>\n",
       "      <th></th>\n",
       "      <th></th>\n",
       "    </tr>\n",
       "  </thead>\n",
       "  <tbody>\n",
       "    <tr>\n",
       "      <th>2017-05-17</th>\n",
       "      <td>244499.97</td>\n",
       "      <td>244680.0</td>\n",
       "      <td>242500.00</td>\n",
       "      <td>243110.0</td>\n",
       "      <td>471</td>\n",
       "    </tr>\n",
       "    <tr>\n",
       "      <th>2017-05-18</th>\n",
       "      <td>243000.00</td>\n",
       "      <td>244450.0</td>\n",
       "      <td>242180.00</td>\n",
       "      <td>242510.0</td>\n",
       "      <td>288</td>\n",
       "    </tr>\n",
       "    <tr>\n",
       "      <th>2017-05-19</th>\n",
       "      <td>243355.00</td>\n",
       "      <td>246220.0</td>\n",
       "      <td>242840.54</td>\n",
       "      <td>244910.0</td>\n",
       "      <td>254</td>\n",
       "    </tr>\n",
       "    <tr>\n",
       "      <th>2017-05-22</th>\n",
       "      <td>247499.90</td>\n",
       "      <td>248270.0</td>\n",
       "      <td>246200.50</td>\n",
       "      <td>247820.0</td>\n",
       "      <td>482</td>\n",
       "    </tr>\n",
       "    <tr>\n",
       "      <th>2017-05-23</th>\n",
       "      <td>248100.00</td>\n",
       "      <td>248690.0</td>\n",
       "      <td>247390.00</td>\n",
       "      <td>248121.0</td>\n",
       "      <td>327</td>\n",
       "    </tr>\n",
       "  </tbody>\n",
       "</table>\n",
       "</div>"
      ],
      "text/plain": [
       "                 Open      High        Low     Close  Volume\n",
       "Date                                                        \n",
       "2017-05-17  244499.97  244680.0  242500.00  243110.0     471\n",
       "2017-05-18  243000.00  244450.0  242180.00  242510.0     288\n",
       "2017-05-19  243355.00  246220.0  242840.54  244910.0     254\n",
       "2017-05-22  247499.90  248270.0  246200.50  247820.0     482\n",
       "2017-05-23  248100.00  248690.0  247390.00  248121.0     327"
      ]
     },
     "execution_count": 5,
     "metadata": {},
     "output_type": "execute_result"
    }
   ],
   "source": [
    "BRK.tail()"
   ]
  },
  {
   "cell_type": "markdown",
   "metadata": {},
   "source": [
    "# Simple Rate of Return"
   ]
  },
  {
   "cell_type": "markdown",
   "metadata": {
    "collapsed": true
   },
   "source": [
    "$$\n",
    "\\frac{P_1 - P_0}{P_0} = \\frac{P_1}{P_0} - 1\n",
    "$$"
   ]
  },
  {
   "cell_type": "markdown",
   "metadata": {},
   "source": [
    "*Adj Close* is \"Adjusted close price\", adjusted by dividends and other events at the close of the market at that date."
   ]
  },
  {
   "cell_type": "code",
   "execution_count": 7,
   "metadata": {
    "collapsed": false
   },
   "outputs": [
    {
     "name": "stdout",
     "output_type": "stream",
     "text": [
      "Date\n",
      "2001-06-28         NaN\n",
      "2001-06-29    0.022091\n",
      "2001-07-02   -0.004323\n",
      "2001-07-03   -0.005789\n",
      "2001-07-05   -0.001456\n",
      "2001-07-06    0.020408\n",
      "2001-07-09    0.011429\n",
      "2001-07-10   -0.005650\n",
      "2001-07-11    0.000000\n",
      "2001-07-12   -0.017045\n",
      "2001-07-13   -0.001445\n",
      "2001-07-16   -0.015919\n",
      "2001-07-17    0.018382\n",
      "2001-07-18   -0.003610\n",
      "2001-07-19   -0.014493\n",
      "2001-07-20    0.000000\n",
      "2001-07-23    0.001471\n",
      "2001-07-24   -0.001468\n",
      "2001-07-25    0.002941\n",
      "2001-07-26   -0.002933\n",
      "2001-07-27    0.000000\n",
      "2001-07-30   -0.005882\n",
      "2001-07-31    0.023669\n",
      "2001-08-01    0.004335\n",
      "2001-08-02   -0.020144\n",
      "2001-08-03    0.001468\n",
      "2001-08-06    0.011730\n",
      "2001-08-07   -0.004348\n",
      "2001-08-08    0.002911\n",
      "2001-08-09    0.013788\n",
      "                ...   \n",
      "2017-04-11   -0.007181\n",
      "2017-04-12   -0.002699\n",
      "2017-04-13   -0.011818\n",
      "2017-04-17    0.006939\n",
      "2017-04-18   -0.003851\n",
      "2017-04-19   -0.006930\n",
      "2017-04-20    0.012920\n",
      "2017-04-21   -0.006675\n",
      "2017-04-24    0.013439\n",
      "2017-04-25    0.009568\n",
      "2017-04-26    0.000478\n",
      "2017-04-27   -0.005574\n",
      "2017-04-28   -0.008682\n",
      "2017-05-01    0.001978\n",
      "2017-05-02    0.002981\n",
      "2017-05-03    0.003976\n",
      "2017-05-04   -0.001840\n",
      "2017-05-05    0.001843\n",
      "2017-05-08   -0.011360\n",
      "2017-05-09   -0.004693\n",
      "2017-05-10   -0.000610\n",
      "2017-05-11   -0.002481\n",
      "2017-05-12   -0.000082\n",
      "2017-05-15    0.002365\n",
      "2017-05-16   -0.000403\n",
      "2017-05-17   -0.010545\n",
      "2017-05-18   -0.002468\n",
      "2017-05-19    0.009896\n",
      "2017-05-22    0.011882\n",
      "2017-05-23    0.001215\n",
      "Name: simple_return, dtype: float64\n"
     ]
    }
   ],
   "source": [
    "BRK['simple_return'] = (BRK['Close'] / BRK['Close'].shift(1)) - 1\n",
    "print(BRK['simple_return'])"
   ]
  },
  {
   "cell_type": "code",
   "execution_count": 8,
   "metadata": {
    "collapsed": false
   },
   "outputs": [
    {
     "data": {
      "image/png": "[encoded data removed]",
      "text/plain": [
       "<matplotlib.figure.Figure at 0x7f957fdd8518>"
      ]
     },
     "metadata": {},
     "output_type": "display_data"
    }
   ],
   "source": [
    "BRK['simple_return'].plot(figsize=(8,5))\n",
    "plt.show()"
   ]
  },
  {
   "cell_type": "code",
   "execution_count": 12,
   "metadata": {
    "collapsed": false
   },
   "outputs": [
    {
     "data": {
      "text/plain": [
       "0.00054959836826352199"
      ]
     },
     "execution_count": 12,
     "metadata": {},
     "output_type": "execute_result"
    }
   ],
   "source": [
    "avg_returns_d = BRK['simple_return'].mean()\n",
    "avg_returns_d"
   ]
  },
  {
   "cell_type": "code",
   "execution_count": 13,
   "metadata": {
    "collapsed": false
   },
   "outputs": [
    {
     "name": "stdout",
     "output_type": "stream",
     "text": [
      "13.74 %\n"
     ]
    }
   ],
   "source": [
    "avg_returns_a = avg_returns_d * 250 # multiply by the average number of business days per year\n",
    "print(str(round(avg_returns_a, 5) * 100) + ' %')"
   ]
  },
  {
   "cell_type": "markdown",
   "metadata": {
    "collapsed": true
   },
   "source": [
    "# Logarithmic Return"
   ]
  },
  {
   "cell_type": "markdown",
   "metadata": {},
   "source": [
    "$$\n",
    "ln(\\frac{P_t}{P_{t-1}})\n",
    "$$"
   ]
  },
  {
   "cell_type": "code",
   "execution_count": 14,
   "metadata": {
    "collapsed": false
   },
   "outputs": [
    {
     "data": {
      "text/html": [
       "<div>\n",
       "<table border=\"1\" class=\"dataframe\">\n",
       "  <thead>\n",
       "    <tr style=\"text-align: right;\">\n",
       "      <th></th>\n",
       "      <th>Open</th>\n",
       "      <th>High</th>\n",
       "      <th>Low</th>\n",
       "      <th>Close</th>\n",
       "      <th>Volume</th>\n",
       "      <th>Adj Close</th>\n",
       "      <th>simple_return</th>\n",
       "    </tr>\n",
       "    <tr>\n",
       "      <th>Date</th>\n",
       "      <th></th>\n",
       "      <th></th>\n",
       "      <th></th>\n",
       "      <th></th>\n",
       "      <th></th>\n",
       "      <th></th>\n",
       "      <th></th>\n",
       "    </tr>\n",
       "  </thead>\n",
       "  <tbody>\n",
       "    <tr>\n",
       "      <th>1995-01-03</th>\n",
       "      <td>20500.0</td>\n",
       "      <td>20550.0</td>\n",
       "      <td>20250.0</td>\n",
       "      <td>20400.0</td>\n",
       "      <td>27000</td>\n",
       "      <td>20400.0</td>\n",
       "      <td>NaN</td>\n",
       "    </tr>\n",
       "    <tr>\n",
       "      <th>1995-01-04</th>\n",
       "      <td>20400.0</td>\n",
       "      <td>20550.0</td>\n",
       "      <td>20350.0</td>\n",
       "      <td>20550.0</td>\n",
       "      <td>13000</td>\n",
       "      <td>20550.0</td>\n",
       "      <td>0.007353</td>\n",
       "    </tr>\n",
       "    <tr>\n",
       "      <th>1995-01-05</th>\n",
       "      <td>20500.0</td>\n",
       "      <td>20500.0</td>\n",
       "      <td>20500.0</td>\n",
       "      <td>20500.0</td>\n",
       "      <td>14000</td>\n",
       "      <td>20500.0</td>\n",
       "      <td>-0.002433</td>\n",
       "    </tr>\n",
       "    <tr>\n",
       "      <th>1995-01-06</th>\n",
       "      <td>20550.0</td>\n",
       "      <td>20600.0</td>\n",
       "      <td>20550.0</td>\n",
       "      <td>20600.0</td>\n",
       "      <td>4000</td>\n",
       "      <td>20600.0</td>\n",
       "      <td>0.004878</td>\n",
       "    </tr>\n",
       "    <tr>\n",
       "      <th>1995-01-09</th>\n",
       "      <td>20700.0</td>\n",
       "      <td>21200.0</td>\n",
       "      <td>20700.0</td>\n",
       "      <td>21200.0</td>\n",
       "      <td>21000</td>\n",
       "      <td>21200.0</td>\n",
       "      <td>0.029126</td>\n",
       "    </tr>\n",
       "  </tbody>\n",
       "</table>\n",
       "</div>"
      ],
      "text/plain": [
       "               Open     High      Low    Close  Volume  Adj Close  \\\n",
       "Date                                                                \n",
       "1995-01-03  20500.0  20550.0  20250.0  20400.0   27000    20400.0   \n",
       "1995-01-04  20400.0  20550.0  20350.0  20550.0   13000    20550.0   \n",
       "1995-01-05  20500.0  20500.0  20500.0  20500.0   14000    20500.0   \n",
       "1995-01-06  20550.0  20600.0  20550.0  20600.0    4000    20600.0   \n",
       "1995-01-09  20700.0  21200.0  20700.0  21200.0   21000    21200.0   \n",
       "\n",
       "            simple_return  \n",
       "Date                       \n",
       "1995-01-03            NaN  \n",
       "1995-01-04       0.007353  \n",
       "1995-01-05      -0.002433  \n",
       "1995-01-06       0.004878  \n",
       "1995-01-09       0.029126  "
      ]
     },
     "execution_count": 14,
     "metadata": {},
     "output_type": "execute_result"
    }
   ],
   "source": [
    "BRK.head()"
   ]
  },
  {
   "cell_type": "code",
   "execution_count": 10,
   "metadata": {
    "collapsed": false
   },
   "outputs": [
    {
     "name": "stdout",
     "output_type": "stream",
     "text": [
      "Date\n",
      "2001-06-28         NaN\n",
      "2001-06-29    0.021851\n",
      "2001-07-02   -0.004332\n",
      "2001-07-03   -0.005806\n",
      "2001-07-05   -0.001457\n",
      "2001-07-06    0.020203\n",
      "2001-07-09    0.011364\n",
      "2001-07-10   -0.005666\n",
      "2001-07-11    0.000000\n",
      "2001-07-12   -0.017192\n",
      "2001-07-13   -0.001446\n",
      "2001-07-16   -0.016047\n",
      "2001-07-17    0.018215\n",
      "2001-07-18   -0.003617\n",
      "2001-07-19   -0.014599\n",
      "2001-07-20    0.000000\n",
      "2001-07-23    0.001470\n",
      "2001-07-24   -0.001470\n",
      "2001-07-25    0.002937\n",
      "2001-07-26   -0.002937\n",
      "2001-07-27    0.000000\n",
      "2001-07-30   -0.005900\n",
      "2001-07-31    0.023393\n",
      "2001-08-01    0.004326\n",
      "2001-08-02   -0.020350\n",
      "2001-08-03    0.001467\n",
      "2001-08-06    0.011662\n",
      "2001-08-07   -0.004357\n",
      "2001-08-08    0.002907\n",
      "2001-08-09    0.013694\n",
      "                ...   \n",
      "2017-04-11   -0.007206\n",
      "2017-04-12   -0.002703\n",
      "2017-04-13   -0.011888\n",
      "2017-04-17    0.006915\n",
      "2017-04-18   -0.003858\n",
      "2017-04-19   -0.006954\n",
      "2017-04-20    0.012837\n",
      "2017-04-21   -0.006697\n",
      "2017-04-24    0.013350\n",
      "2017-04-25    0.009523\n",
      "2017-04-26    0.000478\n",
      "2017-04-27   -0.005589\n",
      "2017-04-28   -0.008720\n",
      "2017-05-01    0.001976\n",
      "2017-05-02    0.002976\n",
      "2017-05-03    0.003968\n",
      "2017-05-04   -0.001842\n",
      "2017-05-05    0.001842\n",
      "2017-05-08   -0.011425\n",
      "2017-05-09   -0.004704\n",
      "2017-05-10   -0.000610\n",
      "2017-05-11   -0.002484\n",
      "2017-05-12   -0.000082\n",
      "2017-05-15    0.002362\n",
      "2017-05-16   -0.000403\n",
      "2017-05-17   -0.010601\n",
      "2017-05-18   -0.002471\n",
      "2017-05-19    0.009848\n",
      "2017-05-22    0.011812\n",
      "2017-05-23    0.001214\n",
      "Name: log_return, dtype: float64\n"
     ]
    }
   ],
   "source": [
    "BRK['log_return'] = np.log(BRK['Close'] / BRK['Close'].shift(1))\n",
    "print(BRK['log_return'])"
   ]
  },
  {
   "cell_type": "code",
   "execution_count": 17,
   "metadata": {
    "collapsed": false
   },
   "outputs": [
    {
     "data": {
      "image/png": "[encoded data removed]",
      "text/plain": [
       "<matplotlib.figure.Figure at 0x7fcc777645c0>"
      ]
     },
     "metadata": {},
     "output_type": "display_data"
    }
   ],
   "source": [
    "BRK['log_return'].plot(figsize=(8, 5))\n",
    "plt.show()"
   ]
  },
  {
   "cell_type": "code",
   "execution_count": 18,
   "metadata": {
    "collapsed": false
   },
   "outputs": [
    {
     "data": {
      "text/plain": [
       "0.00044176628567140045"
      ]
     },
     "execution_count": 18,
     "metadata": {},
     "output_type": "execute_result"
    }
   ],
   "source": [
    "log_return_d = BRK['log_return'].mean()\n",
    "log_return_d"
   ]
  },
  {
   "cell_type": "code",
   "execution_count": 19,
   "metadata": {
    "collapsed": false
   },
   "outputs": [
    {
     "data": {
      "text/plain": [
       "0.11044157141785012"
      ]
     },
     "execution_count": 19,
     "metadata": {},
     "output_type": "execute_result"
    }
   ],
   "source": [
    "log_return_a = BRK['log_return'].mean() * 250\n",
    "log_return_a"
   ]
  },
  {
   "cell_type": "code",
   "execution_count": 21,
   "metadata": {
    "collapsed": false
   },
   "outputs": [
    {
     "name": "stdout",
     "output_type": "stream",
     "text": [
      "11.044 %\n"
     ]
    }
   ],
   "source": [
    "print(str(round(log_return_a, 5) * 100) + ' %')"
   ]
  },
  {
   "cell_type": "code",
   "execution_count": null,
   "metadata": {
    "collapsed": true
   },
   "outputs": [],
   "source": []
  }
 ],
 "metadata": {
  "kernelspec": {
   "display_name": "python-for-finance",
   "language": "python",
   "name": "python-for-finance"
  },
  "language_info": {
   "codemirror_mode": {
    "name": "ipython",
    "version": 3
   },
   "file_extension": ".py",
   "mimetype": "text/x-python",
   "name": "python",
   "nbconvert_exporter": "python",
   "pygments_lexer": "ipython3",
   "version": "3.6.0"
  }
 },
 "nbformat": 4,
 "nbformat_minor": 2
}
