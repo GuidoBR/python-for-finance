{
 "cells": [
  {
   "cell_type": "code",
   "execution_count": 2,
   "metadata": {},
   "outputs": [],
   "source": [
    "import datetime\n",
    "import requests\n",
    "import pandas as pd\n",
    "import pandas_datareader.data as web\n",
    "from bcb import sgs\n",
    "from zipfile import ZipFile\n"
   ]
  },
  {
   "cell_type": "code",
   "execution_count": 3,
   "metadata": {},
   "outputs": [],
   "source": [
    "# Importing matplotlib and setting aesthetics for plotting later.\n",
    "import matplotlib.pyplot as plt\n",
    "%matplotlib inline\n",
    "%config InlineBackend.figure_format = 'svg' \n",
    "plt.style.use('fivethirtyeight')"
   ]
  },
  {
   "cell_type": "markdown",
   "metadata": {},
   "source": [
    "# FIIs e pandemia de Covid-19"
   ]
  },
  {
   "cell_type": "markdown",
   "metadata": {},
   "source": [
    "## FIIs de Shopping"
   ]
  },
  {
   "cell_type": "code",
   "execution_count": 4,
   "metadata": {},
   "outputs": [],
   "source": [
    "start = pd.to_datetime(['2020-02-15']).astype(int)[0]//10**9 # convert to unix timestamp.\n",
    "end = pd.to_datetime(['2022-10-18']).astype(int)[0]//10**9 # convert to unix timestamp."
   ]
  },
  {
   "cell_type": "code",
   "execution_count": null,
   "metadata": {},
   "outputs": [],
   "source": [
    "tickers = ['VISC11.SA', 'ABCP11.SA', 'HGBS11.SA']\n",
    "\n",
    "shoppings = pd.DataFrame()\n",
    "for fii in tickers:\n",
    "    url = 'https://query1.finance.yahoo.com/v7/finance/download/' + fii + '?period1=' + str(start) + '&period2=' + str(end) + '&interval=1d&events=history'\n",
    "    shoppings[fii] = pd.read_csv(url)['Close']\n",
    "\n",
    "shoppings.head()"
   ]
  },
  {
   "cell_type": "code",
   "execution_count": null,
   "metadata": {},
   "outputs": [],
   "source": [
    "def plot_normalized_returns(b3_data):\n",
    "    log_returns = b3_data / b3_data.iloc[0]*100\n",
    "    log_returns.plot(figsize=(10,5))\n",
    "    plt.ylabel('Preço')\n",
    "    plt.xlabel('Dias')\n",
    "    plt.show()\n",
    "    \n",
    "def plot_returns(b3_data):\n",
    "    log_returns = b3_data\n",
    "    log_returns.plot(figsize=(10,5))\n",
    "    plt.ylabel('Preço')\n",
    "    plt.xlabel('Dias')\n",
    "    plt.show()"
   ]
  },
  {
   "cell_type": "code",
   "execution_count": null,
   "metadata": {},
   "outputs": [],
   "source": [
    "plot_normalized_returns(shoppings) "
   ]
  },
  {
   "cell_type": "code",
   "execution_count": null,
   "metadata": {},
   "outputs": [],
   "source": [
    "plot_returns(shoppings)"
   ]
  },
  {
   "cell_type": "markdown",
   "metadata": {},
   "source": [
    "## FIIs de Logística"
   ]
  },
  {
   "cell_type": "code",
   "execution_count": null,
   "metadata": {},
   "outputs": [],
   "source": [
    "tickers = [\"HGLG11.SA\", \"GGRC11.SA\", \"FIIB11.SA\", \"ALZR11.SA\", \"LVBI11.SA\"]\n",
    "\n",
    "logistica = pd.DataFrame()\n",
    "for fii in tickers:\n",
    "    url = 'https://query1.finance.yahoo.com/v7/finance/download/' + fii + '?period1=' + str(start) + '&period2=' + str(end) + '&interval=1d&events=history'\n",
    "    logistica[fii] = pd.read_csv(url)['Close']\n",
    "\n",
    "logistica.head()"
   ]
  },
  {
   "cell_type": "code",
   "execution_count": null,
   "metadata": {},
   "outputs": [],
   "source": [
    "plot_normalized_returns(logistica) "
   ]
  },
  {
   "cell_type": "code",
   "execution_count": null,
   "metadata": {},
   "outputs": [],
   "source": [
    "plot_returns(logistica)"
   ]
  },
  {
   "cell_type": "markdown",
   "metadata": {},
   "source": [
    "### Evolução do HGRU11 (2020-2022)"
   ]
  },
  {
   "cell_type": "code",
   "execution_count": null,
   "metadata": {},
   "outputs": [],
   "source": [
    "for year in [2020]:\n",
    "    url_dados = f\"https://dados.cvm.gov.br/dados/FII/DOC/INF_ANUAL/DADOS/inf_anual_fii_{year}.zip\"\n",
    "    r = requests.get(url_dados)\n",
    "    nome_arquivo = f\"dados_{year}.zip\"\n",
    "    open(nome_arquivo, 'wb').write(r.content)\n",
    "\n",
    "    with ZipFile(f\"dados_{year}.zip\", 'r') as zip:\n",
    "        zip.extractall(\"dados_cvm\")\n",
    "        dados_cvm = pd.read_csv(f\"dados_cvm/inf_anual_fii_geral_{year}.csv\", error_bad_lines=False, encoding= 'unicode_escape')\n",
    "        \n",
    "\n",
    "dados_cvm.head()"
   ]
  },
  {
   "cell_type": "markdown",
   "metadata": {},
   "source": [
    "### SELIC"
   ]
  },
  {
   "cell_type": "code",
   "execution_count": null,
   "metadata": {},
   "outputs": [],
   "source": [
    "selic = sgs.get(('selic', 432), start = '2020-02-15')"
   ]
  },
  {
   "cell_type": "code",
   "execution_count": null,
   "metadata": {},
   "outputs": [],
   "source": [
    "selic.plot(figsize = (10, 5))\n",
    "plt.title(\"Taxa de juros - Meta Selic definida pelo Copom - %a.a\")"
   ]
  },
  {
   "cell_type": "markdown",
   "metadata": {},
   "source": [
    "### IPCA"
   ]
  },
  {
   "cell_type": "code",
   "execution_count": null,
   "metadata": {},
   "outputs": [],
   "source": [
    "ipca = sgs.get(('IPCA', 433), start='2020-01-01')\n",
    "ipca_anualizado = ipca.rolling(12)\n",
    "ipca_acumulado_em_12 = ipca_anualizado.apply(lambda x: (1 + x/100).prod() - 1).dropna() * 100\n",
    "\n",
    "\n",
    "ipca_acumulado_em_12.plot(figsize=(12,6))\n",
    "plt.title('Fonte: https://dadosabertos.bcb.gov.br', fontsize=10)\n",
    "plt.suptitle('IPCA acumulado 12 meses - Janela Móvel', fontsize=18)\n",
    "plt.xlabel('Data')\n",
    "plt.ylabel('%')\n",
    "plt.legend().set_visible(False)"
   ]
  },
  {
   "cell_type": "markdown",
   "metadata": {},
   "source": []
  }
 ],
 "metadata": {
  "kernelspec": {
   "display_name": "Python for Finance",
   "language": "python",
   "name": "finance"
  },
  "language_info": {
   "codemirror_mode": {
    "name": "ipython",
    "version": 3
   },
   "file_extension": ".py",
   "mimetype": "text/x-python",
   "name": "python",
   "nbconvert_exporter": "python",
   "pygments_lexer": "ipython3",
   "version": "3.6.5"
  }
 },
 "nbformat": 4,
 "nbformat_minor": 2
}
